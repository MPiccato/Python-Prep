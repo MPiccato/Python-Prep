{
 "cells": [
  {
   "cell_type": "markdown",
   "metadata": {},
   "source": [
    "Crear la clase vehículo que contenga los atributos:\n",
    "Color\n",
    "Si es moto, auto, camioneta ó camión\n",
    "Cilindrada del motor"
   ]
  },
  {
   "cell_type": "code",
   "execution_count": 20,
   "metadata": {},
   "outputs": [],
   "source": [
    "class Vehiculo:\n",
    "    def __init__(self, color, tipo, cilindrada):\n",
    "        self.color = color\n",
    "        self.tipo = tipo\n",
    "        self.cilindrada = cilindrada\n",
    "        self.velocidad = 0"
   ]
  },
  {
   "cell_type": "markdown",
   "metadata": {},
   "source": [
    "A la clase Vehiculo creada en el punto 1, agregar los siguientes métodos:\n",
    "Acelerar\n",
    "Frenar\n",
    "Doblar"
   ]
  },
  {
   "cell_type": "code",
   "execution_count": 26,
   "metadata": {},
   "outputs": [],
   "source": [
    "class Vehiculo:\n",
    "    def __init__(self, color, tipo, cilindrada):\n",
    "        self.color = color\n",
    "        self.tipo = tipo\n",
    "        self.cilindrada = cilindrada\n",
    "        self.velocidad = 0\n",
    "        self.direccion = 0\n",
    "    def Acelerar(self, velocidad_actual):\n",
    "        self.velocidad += velocidad_actual\n",
    "        print('Acelerando el', self.tipo, 'con el máximo de',self.velocidad)\n",
    "    def Frenar(self, frenar_actual):\n",
    "        self.velocidad += frenar_actual\n",
    "        print('El', self.tipo, 'aplicó un frenado, su velocidad actual es', self.velocidad)\n",
    "    def Doblar(self, direccion_grados):\n",
    "        self.direccion = direccion_grados\n",
    "        print('El', self.tipo, 'está doblando unos', self.direccion, 'grados')\n",
    "    def Estado(self):\n",
    "        print('El', self.tipo, 'va a una velocidad',self.velocidad, 'y mantiene la dirección',self.direccion)\n",
    "    def Detalle(self):\n",
    "        print('Soy',self.tipo, 'de color', self.color, 'y con', self.cilindrada,'cilindradas')    "
   ]
  },
  {
   "cell_type": "markdown",
   "metadata": {},
   "source": [
    "Instanciar 3 objetos de la clase vehículo y ejecutar sus métodos, probar luego el resultado"
   ]
  },
  {
   "cell_type": "code",
   "execution_count": 28,
   "metadata": {},
   "outputs": [],
   "source": [
    "v1 = Vehiculo('azul','auto',2.0)\n",
    "v2 = Vehiculo('negro','moto',1.2)\n",
    "v3 = Vehiculo('blanco', 'camioneta', 4.0)\n"
   ]
  },
  {
   "cell_type": "code",
   "execution_count": 23,
   "metadata": {},
   "outputs": [
    {
     "data": {
      "text/plain": [
       "'auto'"
      ]
     },
     "execution_count": 23,
     "metadata": {},
     "output_type": "execute_result"
    }
   ],
   "source": [
    "v1.tipo"
   ]
  },
  {
   "cell_type": "code",
   "execution_count": 24,
   "metadata": {},
   "outputs": [
    {
     "data": {
      "text/plain": [
       "1.2"
      ]
     },
     "execution_count": 24,
     "metadata": {},
     "output_type": "execute_result"
    }
   ],
   "source": [
    "v2.cilindrada"
   ]
  },
  {
   "cell_type": "code",
   "execution_count": 30,
   "metadata": {},
   "outputs": [
    {
     "name": "stdout",
     "output_type": "stream",
     "text": [
      "Acelerando el auto con el máximo de 30\n"
     ]
    }
   ],
   "source": [
    "v1.Acelerar(30)"
   ]
  },
  {
   "cell_type": "markdown",
   "metadata": {},
   "source": [
    "Agregar a la clase Vehiculo, un método que muestre su estado, es decir, a que velocidad se encuentra y su dirección. Y otro método que muestre color, tipo y cilindrada"
   ]
  },
  {
   "cell_type": "code",
   "execution_count": 31,
   "metadata": {},
   "outputs": [
    {
     "name": "stdout",
     "output_type": "stream",
     "text": [
      "Soy auto de color azul y con 2.0 cilindradas\n"
     ]
    }
   ],
   "source": [
    "v1.Detalle()"
   ]
  },
  {
   "cell_type": "markdown",
   "metadata": {},
   "source": [
    "Crear una clase que permita utilizar las funciones creadas en la práctica del módulo 6\n",
    "Verificar Primo\n",
    "Valor modal\n",
    "Conversión grados\n",
    "Factorial"
   ]
  },
  {
   "cell_type": "code",
   "execution_count": 1,
   "metadata": {},
   "outputs": [],
   "source": [
    "class Matematica:\n",
    "    def __init__(self,listNum):\n",
    "        self.lista = listNum\n",
    "\n",
    "    def numPrimo(self, numPrimo):\n",
    "        esPrimo = True\n",
    "        for i in range(2,numPrimo):\n",
    "            if numPrimo % i == 0:\n",
    "                esPrimo = False\n",
    "                break\n",
    "        return esPrimo\n",
    "\n",
    "    def extraePrimos(self):\n",
    "        listPrimos = []\n",
    "        for nro in self.lista:\n",
    "\n",
    "            if nro > 1:\n",
    "                if self.numPrimo(int(nro)):\n",
    "                    listPrimos.append(nro)\n",
    "            else:\n",
    "                continue\n",
    "        return listPrimos\n",
    "        \n",
    "    def cambioGrados(self,valor, origen,destino):\n",
    "        diccambioGrados={}\n",
    "        # De Celsius a Farenhait\n",
    "\n",
    "        deCelsiusaF = (valor * 9/5) + 32\n",
    "\n",
    "        diccambioGrados['De Celsius a F'] = deCelsiusaF\n",
    "\n",
    "        # De Celsius a Kevin\n",
    "\n",
    "        deCelsiusaK = valor + 273.15\n",
    "\n",
    "        diccambioGrados['De Celsius a K'] = deCelsiusaK\n",
    "\n",
    "        # De Kevin a Celsius\n",
    "\n",
    "        deKaCelsius = deCelsiusaK - 273.15\n",
    "\n",
    "        diccambioGrados['De K a Celsius'] = deKaCelsius\n",
    "\n",
    "        # De Farenhait a Celsius\n",
    "\n",
    "        deFaCelsius = (deCelsiusaF - 32) / (9/5)\n",
    "        diccambioGrados['De F a Celsius'] = deFaCelsius\n",
    "\n",
    "        print(diccambioGrados)\n",
    "\n",
    "        if origen == 'C':        \n",
    "            if destino == 'K':\n",
    "                return deCelsiusaK\n",
    "            if destino == 'F':\n",
    "                return deCelsiusaF\n",
    "\n",
    "    def factorial(self,numero):\n",
    "        if(type(numero) != int):\n",
    "            return 'El número debe ser un entero'\n",
    "\n",
    "        if (numero < 0):\n",
    "            return 'El número debe ser positivo'\n",
    "        if (numero > 1):\n",
    "            numero = numero * self.factorial(numero - 1)\n",
    "        \n",
    "        return numero"
   ]
  },
  {
   "cell_type": "code",
   "execution_count": 4,
   "metadata": {},
   "outputs": [
    {
     "ename": "NameError",
     "evalue": "name 'Matematica' is not defined",
     "output_type": "error",
     "traceback": [
      "\u001b[0;31m---------------------------------------------------------------------------\u001b[0m",
      "\u001b[0;31mNameError\u001b[0m                                 Traceback (most recent call last)",
      "\u001b[1;32m/Users/martinpiccato/Desktop/Soy Henry/Data Science/Python-Prep/07 - Classes & OOP/Prep_Course_Homework_07-ResueltoMP.ipynb Cell 14'\u001b[0m in \u001b[0;36m<cell line: 1>\u001b[0;34m()\u001b[0m\n\u001b[0;32m----> <a href='vscode-notebook-cell:/Users/martinpiccato/Desktop/Soy%20Henry/Data%20Science/Python-Prep/07%20-%20Classes%20%26%20OOP/Prep_Course_Homework_07-ResueltoMP.ipynb#ch0000013?line=0'>1</a>\u001b[0m num \u001b[39m=\u001b[39m Matematica([\u001b[39m1\u001b[39m,\u001b[39m1\u001b[39m,\u001b[39m2\u001b[39m,\u001b[39m3\u001b[39m,\u001b[39m4\u001b[39m,\u001b[39m4\u001b[39m,\u001b[39m4\u001b[39m,\u001b[39m4\u001b[39m,\u001b[39m5\u001b[39m,\u001b[39m6\u001b[39m])\n",
      "\u001b[0;31mNameError\u001b[0m: name 'Matematica' is not defined"
     ]
    }
   ],
   "source": [
    "num = Matematica([1,1,2,3,4,4,4,4,5,6])"
   ]
  },
  {
   "cell_type": "code",
   "execution_count": 5,
   "metadata": {},
   "outputs": [
    {
     "data": {
      "text/plain": [
       "[2, 3, 5]"
      ]
     },
     "execution_count": 5,
     "metadata": {},
     "output_type": "execute_result"
    }
   ],
   "source": [
    "num.extraePrimos()"
   ]
  },
  {
   "cell_type": "markdown",
   "metadata": {},
   "source": [
    "Es necesario que la clase creada en el punto 5 contenga una lista, sobre la cual se aplquen las funciones incorporadas"
   ]
  },
  {
   "cell_type": "markdown",
   "metadata": {},
   "source": [
    "Agregado en el cuerpo del código"
   ]
  },
  {
   "cell_type": "code",
   "execution_count": 6,
   "metadata": {},
   "outputs": [],
   "source": [
    "from matematicas import *\n"
   ]
  },
  {
   "cell_type": "code",
   "execution_count": 7,
   "metadata": {},
   "outputs": [
    {
     "ename": "NameError",
     "evalue": "name 'Matematica' is not defined",
     "output_type": "error",
     "traceback": [
      "\u001b[0;31m---------------------------------------------------------------------------\u001b[0m",
      "\u001b[0;31mNameError\u001b[0m                                 Traceback (most recent call last)",
      "\u001b[1;32m/Users/martinpiccato/Desktop/Soy Henry/Data Science/Python-Prep/07 - Classes & OOP/Prep_Course_Homework_07-ResueltoMP.ipynb Cell 19'\u001b[0m in \u001b[0;36m<cell line: 1>\u001b[0;34m()\u001b[0m\n\u001b[0;32m----> <a href='vscode-notebook-cell:/Users/martinpiccato/Desktop/Soy%20Henry/Data%20Science/Python-Prep/07%20-%20Classes%20%26%20OOP/Prep_Course_Homework_07-ResueltoMP.ipynb#ch0000018?line=0'>1</a>\u001b[0m numero2 \u001b[39m=\u001b[39m Matematica([\u001b[39m1\u001b[39m,\u001b[39m1\u001b[39m,\u001b[39m3\u001b[39m,\u001b[39m6\u001b[39m,\u001b[39m6\u001b[39m,\u001b[39m7\u001b[39m,\u001b[39m7\u001b[39m,\u001b[39m7\u001b[39m,\u001b[39m7\u001b[39m])\n\u001b[1;32m      <a href='vscode-notebook-cell:/Users/martinpiccato/Desktop/Soy%20Henry/Data%20Science/Python-Prep/07%20-%20Classes%20%26%20OOP/Prep_Course_Homework_07-ResueltoMP.ipynb#ch0000018?line=1'>2</a>\u001b[0m numero2\u001b[39m.\u001b[39mextraePrimos()\n",
      "\u001b[0;31mNameError\u001b[0m: name 'Matematica' is not defined"
     ]
    }
   ],
   "source": [
    "numero2 = Matematica([1,1,3,6,6,7,7,7,7])\n",
    "numero2.extraePrimos()"
   ]
  }
 ],
 "metadata": {
  "interpreter": {
   "hash": "aee8b7b246df8f9039afb4144a1f6fd8d2ca17a180786b69acc140d282b71a49"
  },
  "kernelspec": {
   "display_name": "Python 3.10.4 64-bit",
   "language": "python",
   "name": "python3"
  },
  "language_info": {
   "codemirror_mode": {
    "name": "ipython",
    "version": 3
   },
   "file_extension": ".py",
   "mimetype": "text/x-python",
   "name": "python",
   "nbconvert_exporter": "python",
   "pygments_lexer": "ipython3",
   "version": "3.10.4"
  },
  "orig_nbformat": 4
 },
 "nbformat": 4,
 "nbformat_minor": 2
}
