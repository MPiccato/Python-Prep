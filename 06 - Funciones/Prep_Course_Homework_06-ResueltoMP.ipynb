{
 "cells": [
  {
   "cell_type": "markdown",
   "metadata": {},
   "source": [
    "1) Crear una función que reciba un número como parámetro y devuelva si True si es primo y False si no lo es"
   ]
  },
  {
   "cell_type": "code",
   "execution_count": 3,
   "metadata": {},
   "outputs": [],
   "source": [
    "def numPrimo(numPrimo):\n",
    "    esPrimo = True\n",
    "    for i in range(2,numPrimo):\n",
    "        if numPrimo % i == 0:\n",
    "            esPrimo = False\n",
    "            break\n",
    "    return esPrimo\n"
   ]
  },
  {
   "cell_type": "code",
   "execution_count": 5,
   "metadata": {},
   "outputs": [
    {
     "data": {
      "text/plain": [
       "False"
      ]
     },
     "execution_count": 5,
     "metadata": {},
     "output_type": "execute_result"
    }
   ],
   "source": [
    "numPrimo(12)"
   ]
  },
  {
   "cell_type": "markdown",
   "metadata": {},
   "source": [
    "2) Utilizando la función del punto 1, realizar otra función que reciba de parámetro una lista de números y devuelva sólo aquellos que son primos en otra lista"
   ]
  },
  {
   "cell_type": "code",
   "execution_count": 19,
   "metadata": {},
   "outputs": [],
   "source": [
    "def extraePrimos(listNum):\n",
    "    listPrimos = []\n",
    "    for nro in listNum:\n",
    "\n",
    "        if nro > 1:\n",
    "            if numPrimo(int(nro)):\n",
    "                listPrimos.append(nro)\n",
    "        else:\n",
    "            continue\n",
    "    return listPrimos"
   ]
  },
  {
   "cell_type": "code",
   "execution_count": 20,
   "metadata": {},
   "outputs": [
    {
     "data": {
      "text/plain": [
       "[2, 3, 5, 7, 11, 17]"
      ]
     },
     "execution_count": 20,
     "metadata": {},
     "output_type": "execute_result"
    }
   ],
   "source": [
    "extraePrimos([1,2,3,4,5,7,8,10,11,44,55,17])"
   ]
  },
  {
   "cell_type": "markdown",
   "metadata": {},
   "source": [
    "3) Crear una función que al recibir una lista de números, devuelva el que más se repite y cuántas veces lo hace. Si hay más de un \"más repetido\", que devuelva cualquiera"
   ]
  },
  {
   "cell_type": "code",
   "execution_count": 39,
   "metadata": {},
   "outputs": [],
   "source": [
    "def cantRepetidos(listaNum):\n",
    "    repetidos = []\n",
    "    totalNum = []\n",
    "\n",
    "    for num in listaNum:\n",
    "        if num not in totalNum:\n",
    "            totalNum.append(num)\n",
    "        else:\n",
    "\n",
    "            repetidos.append(num)\n",
    "    \n",
    "    cantVecesNum={}\n",
    "\n",
    "    for numero in repetidos:\n",
    "        cantVecesNum[numero] = listaNum.count(numero)\n",
    "\n",
    "    cantidadMax = max(cantVecesNum)\n",
    "    if (len(cantVecesNum)>1):\n",
    "        return 'Los números que más se repiten son: {}'.format(cantVecesNum)\n",
    "    #print('El número que más se repite es {} y lo hace {} veces'.format(cantidadMax,cantVecesNum[cantidadMax]))\n",
    "    return ('El número que más se repite es el {} y lo hace {} veces'.format(cantidadMax,cantVecesNum[cantidadMax]))"
   ]
  },
  {
   "cell_type": "code",
   "execution_count": 71,
   "metadata": {},
   "outputs": [
    {
     "data": {
      "text/plain": [
       "'El número que mas se repite es 10 y lo hace 3 veces'"
      ]
     },
     "execution_count": 71,
     "metadata": {},
     "output_type": "execute_result"
    }
   ],
   "source": [
    "listNum = [1,3,3,5,5,5,10,10,10]\n",
    "cantRepetidos(listNum, 'mayor')"
   ]
  },
  {
   "cell_type": "markdown",
   "metadata": {},
   "source": [
    "4) A la función del punto 3, agregar un parámetro más, que permita elegir si se requiere el menor o el mayor de los mas repetidos."
   ]
  },
  {
   "cell_type": "code",
   "execution_count": 69,
   "metadata": {},
   "outputs": [],
   "source": [
    "def cantRepetidos(listaNum,menorMayor):\n",
    "    repetidos = []\n",
    "    totalNum = []\n",
    "\n",
    "    for num in listaNum:\n",
    "        if num not in totalNum:\n",
    "            totalNum.append(num)\n",
    "        else:\n",
    "\n",
    "            repetidos.append(num)\n",
    "    \n",
    "    cantVecesNum={}\n",
    "\n",
    "    for numero in repetidos:\n",
    "        cantVecesNum[numero] = listaNum.count(numero)\n",
    "\n",
    "    # Está tomando el número menor o mayor, no lo hace por la cantidad\n",
    "    # de veces que se repite.\n",
    "    cantidadMin = min(cantVecesNum)\n",
    "    cantidadMax = max(cantVecesNum)\n",
    "    if menorMayor == 'menor':\n",
    "        if (len(cantVecesNum)>=1):\n",
    "            return('El número que menos se repite es {} y lo hace {} veces'.format(cantidadMin,cantVecesNum[cantidadMin]))\n",
    "        else:\n",
    "            return 'El número que MENOS se repiten es: {}'.format(cantidadMin)\n",
    "    if menorMayor == 'mayor':\n",
    "        if (len(cantVecesNum)>=1):\n",
    "            return('El número que mas se repite es {} y lo hace {} veces'.format(cantidadMax,cantVecesNum[cantidadMax]))\n",
    "        else:\n",
    "            return 'El número que mas se repiten es: {}'.format(cantidadMax)\n",
    "    "
   ]
  },
  {
   "cell_type": "markdown",
   "metadata": {},
   "source": [
    "5) Crear una función que convierta entre grados Celsius, Farenheit y Kelvin<br>\n",
    "Fórmula 1\t: (°C × 9/5) + 32 = °F<br>\n",
    "Fórmula 2\t: °C + 273.15 = °K<br>\n",
    "Debe recibir 3 parámetros: el valor, la medida de orígen y la medida de destino"
   ]
  },
  {
   "cell_type": "code",
   "execution_count": 75,
   "metadata": {},
   "outputs": [],
   "source": [
    "def cambioGrados(valor, origen,destino):\n",
    "    diccambioGrados={}\n",
    "    # De Celsius a Farenhait\n",
    "\n",
    "    deCelsiusaF = (valor * 9/5) + 32\n",
    "\n",
    "    diccambioGrados['De Celsius a F'] = deCelsiusaF\n",
    "\n",
    "    # De Celsius a Kevin\n",
    "\n",
    "    deCelsiusaK = valor + 273.15\n",
    "\n",
    "    diccambioGrados['De Celsius a K'] = deCelsiusaK\n",
    "\n",
    "    # De Kevin a Celsius\n",
    "\n",
    "    deKaCelsius = deCelsiusaK - 273.15\n",
    "\n",
    "    diccambioGrados['De K a Celsius'] = deKaCelsius\n",
    "\n",
    "    # De Farenhait a Celsius\n",
    "\n",
    "    deFaCelsius = (deCelsiusaF - 32) / (9/5)\n",
    "    diccambioGrados['De F a Celsius'] = deFaCelsius\n",
    "\n",
    "    print(diccambioGrados)\n",
    "\n",
    "    if origen == 'C':        \n",
    "        if destino == 'K':\n",
    "            return deCelsiusaK\n",
    "        if destino == 'F':\n",
    "            return deCelsiusaF\n",
    "\n"
   ]
  },
  {
   "cell_type": "code",
   "execution_count": 76,
   "metadata": {},
   "outputs": [
    {
     "name": "stdout",
     "output_type": "stream",
     "text": [
      "{'De Celsius a F': 104.0, 'De Celsius a K': 313.15, 'De K a Celsius': 40.0, 'De F a Celsius': 40.0}\n"
     ]
    },
    {
     "data": {
      "text/plain": [
       "313.15"
      ]
     },
     "execution_count": 76,
     "metadata": {},
     "output_type": "execute_result"
    }
   ],
   "source": [
    "cambioGrados(40,'C','K')"
   ]
  },
  {
   "cell_type": "markdown",
   "metadata": {},
   "source": [
    "6) Iterando una lista con los tres valores posibles de temperatura que recibe la función del punto 5, hacer un print para cada combinación de los mismos:"
   ]
  },
  {
   "cell_type": "code",
   "execution_count": null,
   "metadata": {},
   "outputs": [],
   "source": [
    "def cambioGrados(valor, origen,destino):\n",
    "    diccambioGrados={}\n",
    "    # De Celsius a Farenhait\n",
    "\n",
    "    deCelsiusaF = (valor * 9/5) + 32\n",
    "\n",
    "    diccambioGrados['De Celsius a F'] = deCelsiusaF\n",
    "\n",
    "    # De Celsius a Kevin\n",
    "\n",
    "    deCelsiusaK = valor + 273.15\n",
    "\n",
    "    diccambioGrados['De Celsius a K'] = deCelsiusaK\n",
    "\n",
    "    # De Kevin a Celsius\n",
    "\n",
    "    deKaCelsius = deCelsiusaK - 273.15\n",
    "\n",
    "    diccambioGrados['De K a Celsius'] = deKaCelsius\n",
    "\n",
    "    # De Farenhait a Celsius\n",
    "\n",
    "    deFaCelsius = (deCelsiusaF - 32) / (9/5)\n",
    "    diccambioGrados['De F a Celsius'] = deFaCelsius\n",
    "\n",
    "    print(diccambioGrados)\n",
    "\n",
    "    if origen == 'C':        \n",
    "        if destino == 'K':\n",
    "            return deCelsiusaK\n",
    "        if destino == 'F':\n",
    "            return deCelsiusaF\n",
    "\n"
   ]
  }
 ],
 "metadata": {
  "interpreter": {
   "hash": "aee8b7b246df8f9039afb4144a1f6fd8d2ca17a180786b69acc140d282b71a49"
  },
  "kernelspec": {
   "display_name": "Python 3.10.4 64-bit",
   "language": "python",
   "name": "python3"
  },
  "language_info": {
   "codemirror_mode": {
    "name": "ipython",
    "version": 3
   },
   "file_extension": ".py",
   "mimetype": "text/x-python",
   "name": "python",
   "nbconvert_exporter": "python",
   "pygments_lexer": "ipython3",
   "version": "3.10.4"
  },
  "orig_nbformat": 4
 },
 "nbformat": 4,
 "nbformat_minor": 2
}
