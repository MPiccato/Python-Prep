{
 "cells": [
  {
   "cell_type": "markdown",
   "metadata": {},
   "source": [
    "1) A partir de una lista vacía, utilizar un ciclo while para cargar allí números negativos del -15 al -1"
   ]
  },
  {
   "cell_type": "code",
   "execution_count": 1,
   "metadata": {},
   "outputs": [
    {
     "name": "stdout",
     "output_type": "stream",
     "text": [
      "[-15, -14, -13, -12, -11, -10, -9, -8, -7, -6, -5, -4, -3, -2, -1]\n"
     ]
    }
   ],
   "source": [
    "numeros = []\n",
    "n = -15\n",
    "while (n < 0):\n",
    "    numeros.append(n)\n",
    "    n += 1\n",
    "print(numeros)\n",
    "\n"
   ]
  },
  {
   "cell_type": "markdown",
   "metadata": {},
   "source": [
    "2) ¿Con un ciclo while sería posible recorrer la lista para imprimir sólo los números pares?"
   ]
  },
  {
   "cell_type": "code",
   "execution_count": 7,
   "metadata": {},
   "outputs": [
    {
     "name": "stdout",
     "output_type": "stream",
     "text": [
      "El número 2 ubicado en la posición 1 es par\n",
      "El número 4 ubicado en la posición 3 es par\n",
      "El número 6 ubicado en la posición 5 es par\n",
      "El número 8 ubicado en la posición 7 es par\n",
      "El número 10 ubicado en la posición 9 es par\n",
      "El número 12 ubicado en la posición 11 es par\n",
      "El número 14 ubicado en la posición 13 es par\n",
      "El número 20 ubicado en la posición 15 es par\n"
     ]
    }
   ],
   "source": [
    "numeros = [1,2,3,4,5,6,7,8,9,10,11,12,13,14,15,20]\n",
    "longitud = len(numeros)\n",
    "i=0\n",
    "while (i < longitud):\n",
    "    if (numeros[i] % 2 == 0):\n",
    "        print('El número {} ubicado en la posición {} es par'.format(numeros[i],numeros.index(numeros[i])))\n",
    "    i+=1"
   ]
  },
  {
   "cell_type": "markdown",
   "metadata": {},
   "source": [
    "3) Resolver el punto anterior sin utilizar un ciclo while"
   ]
  },
  {
   "cell_type": "code",
   "execution_count": 8,
   "metadata": {},
   "outputs": [
    {
     "name": "stdout",
     "output_type": "stream",
     "text": [
      "El número 2 ubicado en la posición 1 es par\n",
      "El número 4 ubicado en la posición 3 es par\n",
      "El número 6 ubicado en la posición 5 es par\n",
      "El número 8 ubicado en la posición 7 es par\n",
      "El número 10 ubicado en la posición 9 es par\n",
      "El número 12 ubicado en la posición 11 es par\n",
      "El número 14 ubicado en la posición 13 es par\n",
      "El número 20 ubicado en la posición 15 es par\n"
     ]
    }
   ],
   "source": [
    "for num in numeros:\n",
    "    if(num % 2 == 0):\n",
    "         print('El número {} ubicado en la posición {} es par'.format(num,numeros.index(num)))\n"
   ]
  },
  {
   "cell_type": "markdown",
   "metadata": {},
   "source": [
    "4) Utilizar el iterable para recorrer sólo los primeros 3 elementos"
   ]
  },
  {
   "cell_type": "code",
   "execution_count": 15,
   "metadata": {},
   "outputs": [
    {
     "name": "stdout",
     "output_type": "stream",
     "text": [
      "Elemento: 1\n",
      "Elemento: 2\n",
      "Elemento: 3\n"
     ]
    }
   ],
   "source": [
    "for num in numeros[:3]:\n",
    "    print(\"Elemento: {}\".format(num))"
   ]
  },
  {
   "cell_type": "markdown",
   "metadata": {},
   "source": [
    "5) Utilizar la función **enumerate** para obtener dentro del iterable, tambien el índice al que corresponde el elemento"
   ]
  },
  {
   "cell_type": "code",
   "execution_count": 17,
   "metadata": {},
   "outputs": [
    {
     "name": "stdout",
     "output_type": "stream",
     "text": [
      "El elemento 1 está en el índice 0\n",
      "El elemento 2 está en el índice 1\n",
      "El elemento 3 está en el índice 2\n",
      "El elemento 4 está en el índice 3\n",
      "El elemento 5 está en el índice 4\n",
      "El elemento 6 está en el índice 5\n",
      "El elemento 7 está en el índice 6\n",
      "El elemento 8 está en el índice 7\n",
      "El elemento 9 está en el índice 8\n",
      "El elemento 10 está en el índice 9\n",
      "El elemento 11 está en el índice 10\n",
      "El elemento 12 está en el índice 11\n",
      "El elemento 13 está en el índice 12\n",
      "El elemento 14 está en el índice 13\n",
      "El elemento 15 está en el índice 14\n",
      "El elemento 20 está en el índice 15\n"
     ]
    }
   ],
   "source": [
    "for i, e in enumerate(numeros):\n",
    "    print ('El elemento {} está en el índice {}'.format(e,i))"
   ]
  },
  {
   "cell_type": "markdown",
   "metadata": {},
   "source": [
    "6) Dada la siguiente lista de números enteros entre 1 y 20, crear un ciclo donde se completen los valores faltantes: lista = [1,2,5,7,8,10,13,14,15,17,20]"
   ]
  },
  {
   "cell_type": "code",
   "execution_count": 27,
   "metadata": {},
   "outputs": [
    {
     "name": "stdout",
     "output_type": "stream",
     "text": [
      "[1, 2, 3, 4, 5, 6, 7, 8, 9, 10, 11, 12, 13, 14, 15, 16, 17, 18, 19, 20]\n"
     ]
    }
   ],
   "source": [
    "lista = [1,2,5,7,8,10,13,14,15,17,20]\n",
    "aux =1\n",
    "while(aux <= 20):\n",
    "    if (not(aux in lista)):\n",
    "        lista.append(aux)\n",
    "    aux +=1\n",
    "lista.sort()\n",
    "print(lista)   "
   ]
  },
  {
   "cell_type": "markdown",
   "metadata": {},
   "source": [
    "Otra forma usando insert y sacando la necesidad de usar sort."
   ]
  },
  {
   "cell_type": "code",
   "execution_count": 28,
   "metadata": {},
   "outputs": [
    {
     "name": "stdout",
     "output_type": "stream",
     "text": [
      "[1, 2, 3, 4, 5, 6, 7, 8, 9, 10, 11, 12, 13, 14, 15, 16, 17, 18, 19, 20]\n"
     ]
    }
   ],
   "source": [
    "lista = [1,2,5,7,8,10,13,14,15,17,20]\n",
    "aux =1\n",
    "while(aux <= 20):\n",
    "    if (not(aux in lista)):\n",
    "        lista.insert(aux -1,aux)\n",
    "    aux +=1\n",
    "print(lista)  "
   ]
  },
  {
   "cell_type": "markdown",
   "metadata": {},
   "source": [
    "7) La sucesión de Fibonacci es un listado de números que sigue la fórmula: <br>\n",
    "n<sub>0</sub> = 0<br>\n",
    "n<sub>1</sub> = 1<br>\n",
    "n<sub>i</sub> = n<sub>i-1</sub> + n<sub>i-2</sub><br>\n",
    "Crear una lista con los primeros treinta números de la sucesión.<br>"
   ]
  },
  {
   "cell_type": "code",
   "execution_count": 38,
   "metadata": {},
   "outputs": [
    {
     "name": "stdout",
     "output_type": "stream",
     "text": [
      "[0, 1, 1, 2, 3, 5, 8, 13, 21, 34, 55, 89, 144, 233, 377, 610, 987, 1597, 2584, 4181, 6765, 10946, 17711, 28657, 46368, 75025, 121393, 196418, 317811, 514229]\n"
     ]
    }
   ],
   "source": [
    "fibo = [0,1]\n",
    "for n in range(2,30):\n",
    "    numFibo = fibo[n-1] + fibo[n-2]\n",
    "    fibo.append(numFibo)\n",
    "\n",
    "print(fibo)"
   ]
  },
  {
   "cell_type": "markdown",
   "metadata": {},
   "source": [
    "8) Realizar la suma de todos elementos de la lista del punto anterior"
   ]
  },
  {
   "cell_type": "code",
   "execution_count": 30,
   "metadata": {},
   "outputs": [
    {
     "data": {
      "text/plain": [
       "1346268"
      ]
     },
     "execution_count": 30,
     "metadata": {},
     "output_type": "execute_result"
    }
   ],
   "source": [
    "sum(fibo)"
   ]
  },
  {
   "cell_type": "markdown",
   "metadata": {},
   "source": [
    "9) La proporción aurea se expresa con una proporción matemática que nace el número irracional Phi= 1,618… que los griegos llamaron número áureo. El cuál se puede aproximar con la sucesión de Fibonacci. Con la lista del ejercicio anterior, imprimir el cociente de los últimos 5 pares de dos números contiguos:<br>\n",
    "Donde i es la cantidad total de elementos<br>\n",
    "n<sub>i-1</sub> / n<sub>i</sub><br>\n",
    "n<sub>i-2</sub> / n<sub>i-1</sub><br>\n",
    "n<sub>i-3</sub> / n<sub>i-2</sub><br>\n",
    "n<sub>i-4</sub> / n<sub>i-3</sub><br>\n",
    "n<sub>i-5</sub> / n<sub>i-4</sub><br>"
   ]
  },
  {
   "cell_type": "code",
   "execution_count": 55,
   "metadata": {},
   "outputs": [
    {
     "name": "stdout",
     "output_type": "stream",
     "text": [
      "Para el par 1: Elemento i-1: 46368, elemento i:75025, cociente:0.6180339886704432\n",
      "Para el par 2: Elemento i-1: 75025, elemento i:121393, cociente:0.6180339887802427\n",
      "Para el par 3: Elemento i-1: 121393, elemento i:196418, cociente:0.618033988738303\n",
      "Para el par 4: Elemento i-1: 196418, elemento i:317811, cociente:0.6180339887543226\n",
      "Para el par 5: Elemento i-1: 317811, elemento i:514229, cociente:0.6180339887482036\n"
     ]
    }
   ],
   "source": [
    "pares = 1\n",
    "for i in range(len(fibo)-5,len(fibo)):\n",
    "    cociente = fibo[i-1] / fibo[i]\n",
    "    print('Para el par {}: Elemento i-1: {}, elemento i:{}, cociente:{}'.format(pares,fibo[i-1],fibo[i],cociente))\n",
    "    pares +=1"
   ]
  },
  {
   "cell_type": "markdown",
   "metadata": {},
   "source": [
    "10) A partir de la variable cadena ya dada, mostrar en qué posiciones aparece la letra \"n\"<br>\n",
    "cadena = 'Hola Mundo. Esto es una practica del lenguaje de programación Python'"
   ]
  },
  {
   "cell_type": "code",
   "execution_count": 69,
   "metadata": {},
   "outputs": [
    {
     "name": "stdout",
     "output_type": "stream",
     "text": [
      "Se encontró la letra n en la posición: 7\n",
      "Se encontró la letra n en la posición: 21\n",
      "Se encontró la letra n en la posición: 39\n",
      "Se encontró la letra n en la posición: 60\n",
      "Se encontró la letra n en la posición: 67\n"
     ]
    }
   ],
   "source": [
    "cadena = 'Hola Mundo. Esto es una practica del lenguaje de programación Python'\n",
    "for i,elem in enumerate(cadena):\n",
    "    if (elem == 'n'):\n",
    "        print('Se encontró la letra n en la posición: {}'.format(i))"
   ]
  },
  {
   "cell_type": "markdown",
   "metadata": {},
   "source": [
    "11) Crear un diccionario e imprimir sus claves utilizando un iterador"
   ]
  },
  {
   "cell_type": "code",
   "execution_count": 74,
   "metadata": {},
   "outputs": [
    {
     "name": "stdout",
     "output_type": "stream",
     "text": [
      "Nombre\n",
      "Apellido\n",
      "Edad\n",
      "Sexo\n",
      "Deportes\n"
     ]
    }
   ],
   "source": [
    "persona = {'Nombre': 'Martin',\n",
    "        'Apellido': 'Piccato',\n",
    "        'Edad': 43,\n",
    "        'Sexo': 'masculino',\n",
    "        'Deportes': ['tenis','golf']\n",
    "        \n",
    "    }\n",
    "for p in persona:\n",
    "    print(p)"
   ]
  },
  {
   "cell_type": "markdown",
   "metadata": {},
   "source": [
    "12) Convertir en una lista la variable \"cadena\" del punto 10 y luego recorrerla con un iterador "
   ]
  },
  {
   "cell_type": "code",
   "execution_count": 78,
   "metadata": {},
   "outputs": [
    {
     "name": "stdout",
     "output_type": "stream",
     "text": [
      "Hola\n",
      "Mundo.\n",
      "Esto\n",
      "es\n",
      "una\n",
      "practica\n",
      "del\n",
      "lenguaje\n",
      "de\n",
      "programación\n",
      "Python\n"
     ]
    }
   ],
   "source": [
    "list_cadena= list(cadena.split(\" \"))\n",
    "for c in list_cadena:\n",
    "    print(c)"
   ]
  },
  {
   "cell_type": "markdown",
   "metadata": {},
   "source": [
    "13) Crear dos listas y unirlas en una tupla utilizando la función zip"
   ]
  },
  {
   "cell_type": "code",
   "execution_count": 82,
   "metadata": {},
   "outputs": [
    {
     "name": "stdout",
     "output_type": "stream",
     "text": [
      "('Nombre', 'Martin')\n",
      "('Apellido', 'Piccato')\n",
      "('edad', 43)\n"
     ]
    }
   ],
   "source": [
    "datos_persona = ['Nombre', 'Apellido', 'edad']\n",
    "persona_datos = ['Martin','Piccato',43]\n",
    "personas = zip(datos_persona,persona_datos)\n",
    "for p in personas:\n",
    "    print(p)"
   ]
  },
  {
   "cell_type": "markdown",
   "metadata": {},
   "source": [
    "14) A partir de la siguiente lista de números, crear una nueva sólo si el número es divisible por 7<br>\n",
    "lis = [18,21,29,32,35,42,56,60,63,71,84,90,91,100]"
   ]
  },
  {
   "cell_type": "code",
   "execution_count": 87,
   "metadata": {},
   "outputs": [
    {
     "name": "stdout",
     "output_type": "stream",
     "text": [
      "Números divisibles por 7: [21, 35, 42, 56, 63, 84, 91]\n"
     ]
    }
   ],
   "source": [
    "lis = [18,21,29,32,35,42,56,60,63,71,84,90,91,100]\n",
    "list7=[]\n",
    "for num in lis:\n",
    "    if(num % 7 == 0):\n",
    "        list7.append(num)\n",
    "print('Números divisibles por 7: {}'.format(list7))"
   ]
  },
  {
   "cell_type": "markdown",
   "metadata": {},
   "source": [
    "Otra forma de hacerlo"
   ]
  },
  {
   "cell_type": "code",
   "execution_count": 2,
   "metadata": {},
   "outputs": [
    {
     "name": "stdout",
     "output_type": "stream",
     "text": [
      "Números divisibles por 7: [21, 35, 42, 56, 63, 84, 91]\n"
     ]
    }
   ],
   "source": [
    "lis = [18,21,29,32,35,42,56,60,63,71,84,90,91,100]\n",
    "lista2 = [i for i in lis if i % 7 == 0]\n",
    "print('Números divisibles por 7: {}'.format(lista2))"
   ]
  },
  {
   "cell_type": "markdown",
   "metadata": {},
   "source": [
    "15) A partir de la lista de a continuación, contar la cantidad total de elementos que contiene, teniendo en cuenta que un elemento de la lista podría ser otra lista:<br>\n",
    "lis = [[1,2,3,4],'rojo','verde',[True,False,False],['uno','dos','tres']]"
   ]
  },
  {
   "cell_type": "code",
   "execution_count": 3,
   "metadata": {},
   "outputs": [
    {
     "name": "stdout",
     "output_type": "stream",
     "text": [
      "12\n"
     ]
    }
   ],
   "source": [
    "cantidad_elementos=0\n",
    "lis = [[1,2,3,4],'rojo','verde',[True,False,False],['uno','dos','tres']]\n",
    "for elem in lis:\n",
    "    if (type(elem) == list):\n",
    "        cantidad_elementos += (len(elem))\n",
    "    else:\n",
    "        cantidad_elementos +=1\n",
    "\n",
    "print(cantidad_elementos)"
   ]
  },
  {
   "cell_type": "markdown",
   "metadata": {},
   "source": [
    "16) Tomar la lista del punto anterior y convertir cada elemento en una lista si no lo es"
   ]
  },
  {
   "cell_type": "code",
   "execution_count": 5,
   "metadata": {},
   "outputs": [
    {
     "name": "stdout",
     "output_type": "stream",
     "text": [
      "[[1, 2, 3, 4], ['rojo'], ['verde'], [True, False, False], ['uno', 'dos', 'tres']]\n"
     ]
    }
   ],
   "source": [
    "for i, elem in enumerate(lis):\n",
    "    if (type(elem) != list):\n",
    "        lis[i]= [elem]\n",
    "print(lis)"
   ]
  }
 ],
 "metadata": {
  "interpreter": {
   "hash": "aee8b7b246df8f9039afb4144a1f6fd8d2ca17a180786b69acc140d282b71a49"
  },
  "kernelspec": {
   "display_name": "Python 3.10.4 64-bit",
   "language": "python",
   "name": "python3"
  },
  "language_info": {
   "codemirror_mode": {
    "name": "ipython",
    "version": 3
   },
   "file_extension": ".py",
   "mimetype": "text/x-python",
   "name": "python",
   "nbconvert_exporter": "python",
   "pygments_lexer": "ipython3",
   "version": "3.10.4"
  },
  "orig_nbformat": 4
 },
 "nbformat": 4,
 "nbformat_minor": 2
}
